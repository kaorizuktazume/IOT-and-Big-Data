{
 "cells": [
  {
   "cell_type": "code",
   "execution_count": 11,
   "metadata": {
    "scrolled": true
   },
   "outputs": [
    {
     "name": "stderr",
     "output_type": "stream",
     "text": [
      "/Users/macbook/opt/anaconda3/lib/python3.7/site-packages/statsmodels/tools/_testing.py:19: FutureWarning: pandas.util.testing is deprecated. Use the functions in the public API at pandas.testing instead.\n",
      "  import pandas.util.testing as tm\n"
     ]
    }
   ],
   "source": [
    "import pandas as pd\n",
    "import numpy as np\n",
    "import matplotlib.pyplot as plt\n",
    "import seaborn as sns"
   ]
  },
  {
   "cell_type": "code",
   "execution_count": 12,
   "metadata": {},
   "outputs": [],
   "source": [
    "import sys\n",
    "import simpy"
   ]
  },
  {
   "cell_type": "code",
   "execution_count": 13,
   "metadata": {},
   "outputs": [
    {
     "name": "stdout",
     "output_type": "stream",
     "text": [
      "fast 0\n",
      "slow 0\n",
      "fast 0.5\n",
      "slow 1\n",
      "fast 1.0\n",
      "fast 1.5\n"
     ]
    }
   ],
   "source": [
    "def clock(env, name, tick):\n",
    "    while True:\n",
    "        print(name, env.now)\n",
    "        yield env.timeout(tick)\n",
    "\n",
    "env = simpy.Environment()\n",
    "env.process(clock(env, 'fast', 0.5))\n",
    "\n",
    "env.process(clock(env, 'slow', 1))\n",
    "env.run(until=2)\n"
   ]
  },
  {
   "cell_type": "markdown",
   "metadata": {},
   "source": [
    "# Introduction to data"
   ]
  },
  {
   "cell_type": "code",
   "execution_count": 14,
   "metadata": {},
   "outputs": [
    {
     "data": {
      "text/html": [
       "<div>\n",
       "<style scoped>\n",
       "    .dataframe tbody tr th:only-of-type {\n",
       "        vertical-align: middle;\n",
       "    }\n",
       "\n",
       "    .dataframe tbody tr th {\n",
       "        vertical-align: top;\n",
       "    }\n",
       "\n",
       "    .dataframe thead th {\n",
       "        text-align: right;\n",
       "    }\n",
       "</style>\n",
       "<table border=\"1\" class=\"dataframe\">\n",
       "  <thead>\n",
       "    <tr style=\"text-align: right;\">\n",
       "      <th></th>\n",
       "      <th>Static-pure</th>\n",
       "      <th>Static-elitist</th>\n",
       "      <th>Stochastic- pure</th>\n",
       "      <th>Stochastic- elitist</th>\n",
       "    </tr>\n",
       "  </thead>\n",
       "  <tbody>\n",
       "    <tr>\n",
       "      <th>0</th>\n",
       "      <td>0.101307</td>\n",
       "      <td>0.101307</td>\n",
       "      <td>0.101307</td>\n",
       "      <td>0.101307</td>\n",
       "    </tr>\n",
       "    <tr>\n",
       "      <th>1</th>\n",
       "      <td>0.126394</td>\n",
       "      <td>0.126394</td>\n",
       "      <td>0.126401</td>\n",
       "      <td>0.126394</td>\n",
       "    </tr>\n",
       "    <tr>\n",
       "      <th>2</th>\n",
       "      <td>0.140380</td>\n",
       "      <td>0.140380</td>\n",
       "      <td>0.140380</td>\n",
       "      <td>0.140380</td>\n",
       "    </tr>\n",
       "    <tr>\n",
       "      <th>3</th>\n",
       "      <td>0.068513</td>\n",
       "      <td>0.068513</td>\n",
       "      <td>0.068513</td>\n",
       "      <td>0.068513</td>\n",
       "    </tr>\n",
       "    <tr>\n",
       "      <th>4</th>\n",
       "      <td>0.085622</td>\n",
       "      <td>0.085599</td>\n",
       "      <td>0.085600</td>\n",
       "      <td>0.085596</td>\n",
       "    </tr>\n",
       "  </tbody>\n",
       "</table>\n",
       "</div>"
      ],
      "text/plain": [
       "   Static-pure  Static-elitist  Stochastic- pure  Stochastic- elitist\n",
       "0     0.101307        0.101307          0.101307             0.101307\n",
       "1     0.126394        0.126394          0.126401             0.126394\n",
       "2     0.140380        0.140380          0.140380             0.140380\n",
       "3     0.068513        0.068513          0.068513             0.068513\n",
       "4     0.085622        0.085599          0.085600             0.085596"
      ]
     },
     "execution_count": 14,
     "metadata": {},
     "output_type": "execute_result"
    }
   ],
   "source": [
    "df = pd.read_csv('AsylKBG.csv', delimiter=';')\n",
    "df.head() ## первые пять строк"
   ]
  },
  {
   "cell_type": "code",
   "execution_count": 15,
   "metadata": {},
   "outputs": [
    {
     "data": {
      "text/plain": [
       "Index(['Static-pure', 'Static-elitist', 'Stochastic- pure',\n",
       "       'Stochastic- elitist'],\n",
       "      dtype='object')"
      ]
     },
     "execution_count": 15,
     "metadata": {},
     "output_type": "execute_result"
    }
   ],
   "source": [
    "df.columns"
   ]
  },
  {
   "cell_type": "code",
   "execution_count": 16,
   "metadata": {},
   "outputs": [
    {
     "data": {
      "text/plain": [
       "(999, 4)"
      ]
     },
     "execution_count": 16,
     "metadata": {},
     "output_type": "execute_result"
    }
   ],
   "source": [
    "df.shape # 0-999 строк, 4 колонны"
   ]
  },
  {
   "cell_type": "code",
   "execution_count": 17,
   "metadata": {},
   "outputs": [
    {
     "data": {
      "text/plain": [
       "Static-pure            0\n",
       "Static-elitist         0\n",
       "Stochastic- pure       0\n",
       "Stochastic- elitist    0\n",
       "dtype: int64"
      ]
     },
     "execution_count": 17,
     "metadata": {},
     "output_type": "execute_result"
    }
   ],
   "source": [
    "df.isnull().sum() ## проверяем на нулевый данные"
   ]
  },
  {
   "cell_type": "markdown",
   "metadata": {},
   "source": [
    "# Data preprocessing"
   ]
  },
  {
   "cell_type": "markdown",
   "metadata": {},
   "source": [
    "## Remove outliers"
   ]
  },
  {
   "cell_type": "markdown",
   "metadata": {},
   "source": [
    "### outlier min - минимальный барьер для данных, формула = \n"
   ]
  },
  {
   "cell_type": "code",
   "execution_count": 18,
   "metadata": {},
   "outputs": [
    {
     "data": {
      "text/plain": [
       "Static-pure           -0.003931\n",
       "Static-elitist        -0.003940\n",
       "Stochastic- pure      -0.004029\n",
       "Stochastic- elitist   -0.004099\n",
       "dtype: float64"
      ]
     },
     "execution_count": 18,
     "metadata": {},
     "output_type": "execute_result"
    }
   ],
   "source": [
    "outlier_min = df.quantile(q=0.25, interpolation='midpoint') - \\\n",
    "                1.5*(df.quantile(q=0.75, interpolation='midpoint') - df.quantile(q=0.25, interpolation='midpoint'))\n",
    "outlier_min"
   ]
  },
  {
   "cell_type": "code",
   "execution_count": 19,
   "metadata": {},
   "outputs": [
    {
     "data": {
      "text/html": [
       "<div>\n",
       "<style scoped>\n",
       "    .dataframe tbody tr th:only-of-type {\n",
       "        vertical-align: middle;\n",
       "    }\n",
       "\n",
       "    .dataframe tbody tr th {\n",
       "        vertical-align: top;\n",
       "    }\n",
       "\n",
       "    .dataframe thead th {\n",
       "        text-align: right;\n",
       "    }\n",
       "</style>\n",
       "<table border=\"1\" class=\"dataframe\">\n",
       "  <thead>\n",
       "    <tr style=\"text-align: right;\">\n",
       "      <th></th>\n",
       "      <th>Static-pure</th>\n",
       "      <th>Static-elitist</th>\n",
       "      <th>Stochastic- pure</th>\n",
       "      <th>Stochastic- elitist</th>\n",
       "    </tr>\n",
       "  </thead>\n",
       "  <tbody>\n",
       "  </tbody>\n",
       "</table>\n",
       "</div>"
      ],
      "text/plain": [
       "Empty DataFrame\n",
       "Columns: [Static-pure, Static-elitist, Stochastic- pure, Stochastic- elitist]\n",
       "Index: []"
      ]
     },
     "execution_count": 19,
     "metadata": {},
     "output_type": "execute_result"
    }
   ],
   "source": [
    "df[df['Static-pure'] < outlier_min['Static-pure']]"
   ]
  },
  {
   "cell_type": "code",
   "execution_count": 20,
   "metadata": {},
   "outputs": [
    {
     "data": {
      "text/html": [
       "<div>\n",
       "<style scoped>\n",
       "    .dataframe tbody tr th:only-of-type {\n",
       "        vertical-align: middle;\n",
       "    }\n",
       "\n",
       "    .dataframe tbody tr th {\n",
       "        vertical-align: top;\n",
       "    }\n",
       "\n",
       "    .dataframe thead th {\n",
       "        text-align: right;\n",
       "    }\n",
       "</style>\n",
       "<table border=\"1\" class=\"dataframe\">\n",
       "  <thead>\n",
       "    <tr style=\"text-align: right;\">\n",
       "      <th></th>\n",
       "      <th>Static-pure</th>\n",
       "      <th>Static-elitist</th>\n",
       "      <th>Stochastic- pure</th>\n",
       "      <th>Stochastic- elitist</th>\n",
       "    </tr>\n",
       "  </thead>\n",
       "  <tbody>\n",
       "  </tbody>\n",
       "</table>\n",
       "</div>"
      ],
      "text/plain": [
       "Empty DataFrame\n",
       "Columns: [Static-pure, Static-elitist, Stochastic- pure, Stochastic- elitist]\n",
       "Index: []"
      ]
     },
     "execution_count": 20,
     "metadata": {},
     "output_type": "execute_result"
    }
   ],
   "source": [
    "df[df['Static-elitist'] < outlier_min['Static-elitist']]"
   ]
  },
  {
   "cell_type": "code",
   "execution_count": 21,
   "metadata": {},
   "outputs": [
    {
     "data": {
      "text/html": [
       "<div>\n",
       "<style scoped>\n",
       "    .dataframe tbody tr th:only-of-type {\n",
       "        vertical-align: middle;\n",
       "    }\n",
       "\n",
       "    .dataframe tbody tr th {\n",
       "        vertical-align: top;\n",
       "    }\n",
       "\n",
       "    .dataframe thead th {\n",
       "        text-align: right;\n",
       "    }\n",
       "</style>\n",
       "<table border=\"1\" class=\"dataframe\">\n",
       "  <thead>\n",
       "    <tr style=\"text-align: right;\">\n",
       "      <th></th>\n",
       "      <th>Static-pure</th>\n",
       "      <th>Static-elitist</th>\n",
       "      <th>Stochastic- pure</th>\n",
       "      <th>Stochastic- elitist</th>\n",
       "    </tr>\n",
       "  </thead>\n",
       "  <tbody>\n",
       "  </tbody>\n",
       "</table>\n",
       "</div>"
      ],
      "text/plain": [
       "Empty DataFrame\n",
       "Columns: [Static-pure, Static-elitist, Stochastic- pure, Stochastic- elitist]\n",
       "Index: []"
      ]
     },
     "execution_count": 21,
     "metadata": {},
     "output_type": "execute_result"
    }
   ],
   "source": [
    "df[df['Stochastic- pure'] < outlier_min['Stochastic- pure']]"
   ]
  },
  {
   "cell_type": "code",
   "execution_count": 22,
   "metadata": {},
   "outputs": [
    {
     "data": {
      "text/html": [
       "<div>\n",
       "<style scoped>\n",
       "    .dataframe tbody tr th:only-of-type {\n",
       "        vertical-align: middle;\n",
       "    }\n",
       "\n",
       "    .dataframe tbody tr th {\n",
       "        vertical-align: top;\n",
       "    }\n",
       "\n",
       "    .dataframe thead th {\n",
       "        text-align: right;\n",
       "    }\n",
       "</style>\n",
       "<table border=\"1\" class=\"dataframe\">\n",
       "  <thead>\n",
       "    <tr style=\"text-align: right;\">\n",
       "      <th></th>\n",
       "      <th>Static-pure</th>\n",
       "      <th>Static-elitist</th>\n",
       "      <th>Stochastic- pure</th>\n",
       "      <th>Stochastic- elitist</th>\n",
       "    </tr>\n",
       "  </thead>\n",
       "  <tbody>\n",
       "  </tbody>\n",
       "</table>\n",
       "</div>"
      ],
      "text/plain": [
       "Empty DataFrame\n",
       "Columns: [Static-pure, Static-elitist, Stochastic- pure, Stochastic- elitist]\n",
       "Index: []"
      ]
     },
     "execution_count": 22,
     "metadata": {},
     "output_type": "execute_result"
    }
   ],
   "source": [
    "df[df['Stochastic- elitist'] < outlier_min['Stochastic- elitist']]"
   ]
  },
  {
   "cell_type": "markdown",
   "metadata": {},
   "source": [
    "### outlier max"
   ]
  },
  {
   "cell_type": "code",
   "execution_count": 23,
   "metadata": {},
   "outputs": [
    {
     "data": {
      "text/plain": [
       "Static-pure            0.127640\n",
       "Static-elitist         0.127645\n",
       "Stochastic- pure       0.127699\n",
       "Stochastic- elitist    0.127741\n",
       "dtype: float64"
      ]
     },
     "execution_count": 23,
     "metadata": {},
     "output_type": "execute_result"
    }
   ],
   "source": [
    "outlier_max = df.quantile(q=0.75, interpolation='midpoint') + \\\n",
    "                1.5*(df.quantile(q=0.75, interpolation='midpoint') - df.quantile(q=0.25, interpolation='midpoint'))\n",
    "outlier_max"
   ]
  },
  {
   "cell_type": "code",
   "execution_count": 24,
   "metadata": {},
   "outputs": [
    {
     "data": {
      "text/html": [
       "<div>\n",
       "<style scoped>\n",
       "    .dataframe tbody tr th:only-of-type {\n",
       "        vertical-align: middle;\n",
       "    }\n",
       "\n",
       "    .dataframe tbody tr th {\n",
       "        vertical-align: top;\n",
       "    }\n",
       "\n",
       "    .dataframe thead th {\n",
       "        text-align: right;\n",
       "    }\n",
       "</style>\n",
       "<table border=\"1\" class=\"dataframe\">\n",
       "  <thead>\n",
       "    <tr style=\"text-align: right;\">\n",
       "      <th></th>\n",
       "      <th>Static-pure</th>\n",
       "      <th>Static-elitist</th>\n",
       "      <th>Stochastic- pure</th>\n",
       "      <th>Stochastic- elitist</th>\n",
       "    </tr>\n",
       "  </thead>\n",
       "  <tbody>\n",
       "    <tr>\n",
       "      <th>2</th>\n",
       "      <td>0.14038</td>\n",
       "      <td>0.14038</td>\n",
       "      <td>0.14038</td>\n",
       "      <td>0.14038</td>\n",
       "    </tr>\n",
       "    <tr>\n",
       "      <th>32</th>\n",
       "      <td>0.14038</td>\n",
       "      <td>0.14038</td>\n",
       "      <td>0.14038</td>\n",
       "      <td>0.14038</td>\n",
       "    </tr>\n",
       "    <tr>\n",
       "      <th>62</th>\n",
       "      <td>0.14038</td>\n",
       "      <td>0.14038</td>\n",
       "      <td>0.14038</td>\n",
       "      <td>0.14038</td>\n",
       "    </tr>\n",
       "    <tr>\n",
       "      <th>92</th>\n",
       "      <td>0.14038</td>\n",
       "      <td>0.14038</td>\n",
       "      <td>0.14038</td>\n",
       "      <td>0.14038</td>\n",
       "    </tr>\n",
       "    <tr>\n",
       "      <th>122</th>\n",
       "      <td>0.14038</td>\n",
       "      <td>0.14038</td>\n",
       "      <td>0.14038</td>\n",
       "      <td>0.14038</td>\n",
       "    </tr>\n",
       "    <tr>\n",
       "      <th>125</th>\n",
       "      <td>0.14038</td>\n",
       "      <td>0.14038</td>\n",
       "      <td>0.14038</td>\n",
       "      <td>0.14038</td>\n",
       "    </tr>\n",
       "    <tr>\n",
       "      <th>155</th>\n",
       "      <td>0.14038</td>\n",
       "      <td>0.14038</td>\n",
       "      <td>0.14038</td>\n",
       "      <td>0.14038</td>\n",
       "    </tr>\n",
       "    <tr>\n",
       "      <th>185</th>\n",
       "      <td>0.14038</td>\n",
       "      <td>0.14038</td>\n",
       "      <td>0.14038</td>\n",
       "      <td>0.14038</td>\n",
       "    </tr>\n",
       "    <tr>\n",
       "      <th>188</th>\n",
       "      <td>0.14038</td>\n",
       "      <td>0.14038</td>\n",
       "      <td>0.14038</td>\n",
       "      <td>0.14038</td>\n",
       "    </tr>\n",
       "    <tr>\n",
       "      <th>218</th>\n",
       "      <td>0.14038</td>\n",
       "      <td>0.14038</td>\n",
       "      <td>0.14038</td>\n",
       "      <td>0.14038</td>\n",
       "    </tr>\n",
       "    <tr>\n",
       "      <th>248</th>\n",
       "      <td>0.14038</td>\n",
       "      <td>0.14038</td>\n",
       "      <td>0.14038</td>\n",
       "      <td>0.14038</td>\n",
       "    </tr>\n",
       "    <tr>\n",
       "      <th>251</th>\n",
       "      <td>0.14038</td>\n",
       "      <td>0.14038</td>\n",
       "      <td>0.14038</td>\n",
       "      <td>0.14038</td>\n",
       "    </tr>\n",
       "    <tr>\n",
       "      <th>281</th>\n",
       "      <td>0.14038</td>\n",
       "      <td>0.14038</td>\n",
       "      <td>0.14038</td>\n",
       "      <td>0.14038</td>\n",
       "    </tr>\n",
       "    <tr>\n",
       "      <th>311</th>\n",
       "      <td>0.14038</td>\n",
       "      <td>0.14038</td>\n",
       "      <td>0.14038</td>\n",
       "      <td>0.14038</td>\n",
       "    </tr>\n",
       "    <tr>\n",
       "      <th>314</th>\n",
       "      <td>0.14038</td>\n",
       "      <td>0.14038</td>\n",
       "      <td>0.14038</td>\n",
       "      <td>0.14038</td>\n",
       "    </tr>\n",
       "    <tr>\n",
       "      <th>344</th>\n",
       "      <td>0.14038</td>\n",
       "      <td>0.14038</td>\n",
       "      <td>0.14038</td>\n",
       "      <td>0.14038</td>\n",
       "    </tr>\n",
       "    <tr>\n",
       "      <th>374</th>\n",
       "      <td>0.14038</td>\n",
       "      <td>0.14038</td>\n",
       "      <td>0.14038</td>\n",
       "      <td>0.14038</td>\n",
       "    </tr>\n",
       "    <tr>\n",
       "      <th>377</th>\n",
       "      <td>0.14038</td>\n",
       "      <td>0.14038</td>\n",
       "      <td>0.14038</td>\n",
       "      <td>0.14038</td>\n",
       "    </tr>\n",
       "    <tr>\n",
       "      <th>407</th>\n",
       "      <td>0.14038</td>\n",
       "      <td>0.14038</td>\n",
       "      <td>0.14038</td>\n",
       "      <td>0.14038</td>\n",
       "    </tr>\n",
       "    <tr>\n",
       "      <th>437</th>\n",
       "      <td>0.14038</td>\n",
       "      <td>0.14038</td>\n",
       "      <td>0.14038</td>\n",
       "      <td>0.14038</td>\n",
       "    </tr>\n",
       "    <tr>\n",
       "      <th>440</th>\n",
       "      <td>0.14038</td>\n",
       "      <td>0.14038</td>\n",
       "      <td>0.14038</td>\n",
       "      <td>0.14038</td>\n",
       "    </tr>\n",
       "    <tr>\n",
       "      <th>470</th>\n",
       "      <td>0.14038</td>\n",
       "      <td>0.14038</td>\n",
       "      <td>0.14038</td>\n",
       "      <td>0.14038</td>\n",
       "    </tr>\n",
       "    <tr>\n",
       "      <th>500</th>\n",
       "      <td>0.14038</td>\n",
       "      <td>0.14038</td>\n",
       "      <td>0.14038</td>\n",
       "      <td>0.14038</td>\n",
       "    </tr>\n",
       "    <tr>\n",
       "      <th>503</th>\n",
       "      <td>0.14038</td>\n",
       "      <td>0.14038</td>\n",
       "      <td>0.14038</td>\n",
       "      <td>0.14038</td>\n",
       "    </tr>\n",
       "    <tr>\n",
       "      <th>533</th>\n",
       "      <td>0.14038</td>\n",
       "      <td>0.14038</td>\n",
       "      <td>0.14038</td>\n",
       "      <td>0.14038</td>\n",
       "    </tr>\n",
       "    <tr>\n",
       "      <th>563</th>\n",
       "      <td>0.14038</td>\n",
       "      <td>0.14038</td>\n",
       "      <td>0.14038</td>\n",
       "      <td>0.14038</td>\n",
       "    </tr>\n",
       "    <tr>\n",
       "      <th>566</th>\n",
       "      <td>0.14038</td>\n",
       "      <td>0.14038</td>\n",
       "      <td>0.14038</td>\n",
       "      <td>0.14038</td>\n",
       "    </tr>\n",
       "    <tr>\n",
       "      <th>596</th>\n",
       "      <td>0.14038</td>\n",
       "      <td>0.14038</td>\n",
       "      <td>0.14038</td>\n",
       "      <td>0.14038</td>\n",
       "    </tr>\n",
       "    <tr>\n",
       "      <th>626</th>\n",
       "      <td>0.14038</td>\n",
       "      <td>0.14038</td>\n",
       "      <td>0.14038</td>\n",
       "      <td>0.14038</td>\n",
       "    </tr>\n",
       "    <tr>\n",
       "      <th>629</th>\n",
       "      <td>0.14038</td>\n",
       "      <td>0.14038</td>\n",
       "      <td>0.14038</td>\n",
       "      <td>0.14038</td>\n",
       "    </tr>\n",
       "    <tr>\n",
       "      <th>659</th>\n",
       "      <td>0.14038</td>\n",
       "      <td>0.14038</td>\n",
       "      <td>0.14038</td>\n",
       "      <td>0.14038</td>\n",
       "    </tr>\n",
       "    <tr>\n",
       "      <th>689</th>\n",
       "      <td>0.14038</td>\n",
       "      <td>0.14038</td>\n",
       "      <td>0.14038</td>\n",
       "      <td>0.14038</td>\n",
       "    </tr>\n",
       "    <tr>\n",
       "      <th>692</th>\n",
       "      <td>0.14038</td>\n",
       "      <td>0.14038</td>\n",
       "      <td>0.14038</td>\n",
       "      <td>0.14038</td>\n",
       "    </tr>\n",
       "    <tr>\n",
       "      <th>722</th>\n",
       "      <td>0.14038</td>\n",
       "      <td>0.14038</td>\n",
       "      <td>0.14038</td>\n",
       "      <td>0.14038</td>\n",
       "    </tr>\n",
       "    <tr>\n",
       "      <th>752</th>\n",
       "      <td>0.14038</td>\n",
       "      <td>0.14038</td>\n",
       "      <td>0.14038</td>\n",
       "      <td>0.14038</td>\n",
       "    </tr>\n",
       "    <tr>\n",
       "      <th>755</th>\n",
       "      <td>0.14038</td>\n",
       "      <td>0.14038</td>\n",
       "      <td>0.14038</td>\n",
       "      <td>0.14038</td>\n",
       "    </tr>\n",
       "    <tr>\n",
       "      <th>785</th>\n",
       "      <td>0.14038</td>\n",
       "      <td>0.14038</td>\n",
       "      <td>0.14038</td>\n",
       "      <td>0.14038</td>\n",
       "    </tr>\n",
       "    <tr>\n",
       "      <th>815</th>\n",
       "      <td>0.14038</td>\n",
       "      <td>0.14038</td>\n",
       "      <td>0.14038</td>\n",
       "      <td>0.14038</td>\n",
       "    </tr>\n",
       "    <tr>\n",
       "      <th>818</th>\n",
       "      <td>0.14038</td>\n",
       "      <td>0.14038</td>\n",
       "      <td>0.14038</td>\n",
       "      <td>0.14038</td>\n",
       "    </tr>\n",
       "    <tr>\n",
       "      <th>848</th>\n",
       "      <td>0.14038</td>\n",
       "      <td>0.14038</td>\n",
       "      <td>0.14038</td>\n",
       "      <td>0.14038</td>\n",
       "    </tr>\n",
       "    <tr>\n",
       "      <th>878</th>\n",
       "      <td>0.14038</td>\n",
       "      <td>0.14038</td>\n",
       "      <td>0.14038</td>\n",
       "      <td>0.14038</td>\n",
       "    </tr>\n",
       "    <tr>\n",
       "      <th>881</th>\n",
       "      <td>0.14038</td>\n",
       "      <td>0.14038</td>\n",
       "      <td>0.14038</td>\n",
       "      <td>0.14038</td>\n",
       "    </tr>\n",
       "    <tr>\n",
       "      <th>911</th>\n",
       "      <td>0.14038</td>\n",
       "      <td>0.14038</td>\n",
       "      <td>0.14038</td>\n",
       "      <td>0.14038</td>\n",
       "    </tr>\n",
       "    <tr>\n",
       "      <th>941</th>\n",
       "      <td>0.14038</td>\n",
       "      <td>0.14038</td>\n",
       "      <td>0.14038</td>\n",
       "      <td>0.14038</td>\n",
       "    </tr>\n",
       "    <tr>\n",
       "      <th>944</th>\n",
       "      <td>0.14038</td>\n",
       "      <td>0.14038</td>\n",
       "      <td>0.14038</td>\n",
       "      <td>0.14038</td>\n",
       "    </tr>\n",
       "    <tr>\n",
       "      <th>974</th>\n",
       "      <td>0.14038</td>\n",
       "      <td>0.14038</td>\n",
       "      <td>0.14038</td>\n",
       "      <td>0.14038</td>\n",
       "    </tr>\n",
       "  </tbody>\n",
       "</table>\n",
       "</div>"
      ],
      "text/plain": [
       "     Static-pure  Static-elitist  Stochastic- pure  Stochastic- elitist\n",
       "2        0.14038         0.14038           0.14038              0.14038\n",
       "32       0.14038         0.14038           0.14038              0.14038\n",
       "62       0.14038         0.14038           0.14038              0.14038\n",
       "92       0.14038         0.14038           0.14038              0.14038\n",
       "122      0.14038         0.14038           0.14038              0.14038\n",
       "125      0.14038         0.14038           0.14038              0.14038\n",
       "155      0.14038         0.14038           0.14038              0.14038\n",
       "185      0.14038         0.14038           0.14038              0.14038\n",
       "188      0.14038         0.14038           0.14038              0.14038\n",
       "218      0.14038         0.14038           0.14038              0.14038\n",
       "248      0.14038         0.14038           0.14038              0.14038\n",
       "251      0.14038         0.14038           0.14038              0.14038\n",
       "281      0.14038         0.14038           0.14038              0.14038\n",
       "311      0.14038         0.14038           0.14038              0.14038\n",
       "314      0.14038         0.14038           0.14038              0.14038\n",
       "344      0.14038         0.14038           0.14038              0.14038\n",
       "374      0.14038         0.14038           0.14038              0.14038\n",
       "377      0.14038         0.14038           0.14038              0.14038\n",
       "407      0.14038         0.14038           0.14038              0.14038\n",
       "437      0.14038         0.14038           0.14038              0.14038\n",
       "440      0.14038         0.14038           0.14038              0.14038\n",
       "470      0.14038         0.14038           0.14038              0.14038\n",
       "500      0.14038         0.14038           0.14038              0.14038\n",
       "503      0.14038         0.14038           0.14038              0.14038\n",
       "533      0.14038         0.14038           0.14038              0.14038\n",
       "563      0.14038         0.14038           0.14038              0.14038\n",
       "566      0.14038         0.14038           0.14038              0.14038\n",
       "596      0.14038         0.14038           0.14038              0.14038\n",
       "626      0.14038         0.14038           0.14038              0.14038\n",
       "629      0.14038         0.14038           0.14038              0.14038\n",
       "659      0.14038         0.14038           0.14038              0.14038\n",
       "689      0.14038         0.14038           0.14038              0.14038\n",
       "692      0.14038         0.14038           0.14038              0.14038\n",
       "722      0.14038         0.14038           0.14038              0.14038\n",
       "752      0.14038         0.14038           0.14038              0.14038\n",
       "755      0.14038         0.14038           0.14038              0.14038\n",
       "785      0.14038         0.14038           0.14038              0.14038\n",
       "815      0.14038         0.14038           0.14038              0.14038\n",
       "818      0.14038         0.14038           0.14038              0.14038\n",
       "848      0.14038         0.14038           0.14038              0.14038\n",
       "878      0.14038         0.14038           0.14038              0.14038\n",
       "881      0.14038         0.14038           0.14038              0.14038\n",
       "911      0.14038         0.14038           0.14038              0.14038\n",
       "941      0.14038         0.14038           0.14038              0.14038\n",
       "944      0.14038         0.14038           0.14038              0.14038\n",
       "974      0.14038         0.14038           0.14038              0.14038"
      ]
     },
     "execution_count": 24,
     "metadata": {},
     "output_type": "execute_result"
    }
   ],
   "source": [
    "df[df['Static-pure'] > outlier_max['Static-pure']]"
   ]
  },
  {
   "cell_type": "code",
   "execution_count": 25,
   "metadata": {},
   "outputs": [
    {
     "data": {
      "text/plain": [
       "Int64Index([  2,  32,  62,  92, 122, 125, 155, 185, 188, 218, 248, 251, 281,\n",
       "            311, 314, 344, 374, 377, 407, 437, 440, 470, 500, 503, 533, 563,\n",
       "            566, 596, 626, 629, 659, 689, 692, 722, 752, 755, 785, 815, 818,\n",
       "            848, 878, 881, 911, 941, 944, 974],\n",
       "           dtype='int64')"
      ]
     },
     "execution_count": 25,
     "metadata": {},
     "output_type": "execute_result"
    }
   ],
   "source": [
    "indexOfData = df[df['Static-pure'] > outlier_max['Static-pure']].index\n",
    "indexOfData"
   ]
  },
  {
   "cell_type": "code",
   "execution_count": 26,
   "metadata": {},
   "outputs": [],
   "source": [
    "for x in indexOfData: ## удаляем слишком левые данные\n",
    "    if x in df.index:\n",
    "        df.drop(x, inplace=True)"
   ]
  },
  {
   "cell_type": "code",
   "execution_count": 27,
   "metadata": {},
   "outputs": [
    {
     "data": {
      "text/html": [
       "<div>\n",
       "<style scoped>\n",
       "    .dataframe tbody tr th:only-of-type {\n",
       "        vertical-align: middle;\n",
       "    }\n",
       "\n",
       "    .dataframe tbody tr th {\n",
       "        vertical-align: top;\n",
       "    }\n",
       "\n",
       "    .dataframe thead th {\n",
       "        text-align: right;\n",
       "    }\n",
       "</style>\n",
       "<table border=\"1\" class=\"dataframe\">\n",
       "  <thead>\n",
       "    <tr style=\"text-align: right;\">\n",
       "      <th></th>\n",
       "      <th>Static-pure</th>\n",
       "      <th>Static-elitist</th>\n",
       "      <th>Stochastic- pure</th>\n",
       "      <th>Stochastic- elitist</th>\n",
       "    </tr>\n",
       "  </thead>\n",
       "  <tbody>\n",
       "    <tr>\n",
       "      <th>0</th>\n",
       "      <td>0.101307</td>\n",
       "      <td>0.101307</td>\n",
       "      <td>0.101307</td>\n",
       "      <td>0.101307</td>\n",
       "    </tr>\n",
       "    <tr>\n",
       "      <th>1</th>\n",
       "      <td>0.126394</td>\n",
       "      <td>0.126394</td>\n",
       "      <td>0.126401</td>\n",
       "      <td>0.126394</td>\n",
       "    </tr>\n",
       "    <tr>\n",
       "      <th>3</th>\n",
       "      <td>0.068513</td>\n",
       "      <td>0.068513</td>\n",
       "      <td>0.068513</td>\n",
       "      <td>0.068513</td>\n",
       "    </tr>\n",
       "    <tr>\n",
       "      <th>4</th>\n",
       "      <td>0.085622</td>\n",
       "      <td>0.085599</td>\n",
       "      <td>0.085600</td>\n",
       "      <td>0.085596</td>\n",
       "    </tr>\n",
       "    <tr>\n",
       "      <th>5</th>\n",
       "      <td>0.107042</td>\n",
       "      <td>0.107042</td>\n",
       "      <td>0.107042</td>\n",
       "      <td>0.107042</td>\n",
       "    </tr>\n",
       "  </tbody>\n",
       "</table>\n",
       "</div>"
      ],
      "text/plain": [
       "   Static-pure  Static-elitist  Stochastic- pure  Stochastic- elitist\n",
       "0     0.101307        0.101307          0.101307             0.101307\n",
       "1     0.126394        0.126394          0.126401             0.126394\n",
       "3     0.068513        0.068513          0.068513             0.068513\n",
       "4     0.085622        0.085599          0.085600             0.085596\n",
       "5     0.107042        0.107042          0.107042             0.107042"
      ]
     },
     "execution_count": 27,
     "metadata": {},
     "output_type": "execute_result"
    }
   ],
   "source": [
    "df.head()"
   ]
  },
  {
   "cell_type": "markdown",
   "metadata": {},
   "source": [
    "## Visualization"
   ]
  },
  {
   "cell_type": "code",
   "execution_count": 28,
   "metadata": {},
   "outputs": [
    {
     "data": {
      "text/plain": [
       "<seaborn.axisgrid.FacetGrid at 0x1a2c4e7e50>"
      ]
     },
     "execution_count": 28,
     "metadata": {},
     "output_type": "execute_result"
    },
    {
     "data": {
      "image/png": "[encoded data removed]",
      "text/plain": [
       "<Figure size 360x360 with 1 Axes>"
      ]
     },
     "metadata": {
      "needs_background": "light"
     },
     "output_type": "display_data"
    }
   ],
   "source": [
    "sns.relplot(x='Static-pure',y='Static-elitist',data=df) "
   ]
  },
  {
   "cell_type": "code",
   "execution_count": 29,
   "metadata": {},
   "outputs": [
    {
     "data": {
      "text/plain": [
       "<seaborn.axisgrid.FacetGrid at 0x110549810>"
      ]
     },
     "execution_count": 29,
     "metadata": {},
     "output_type": "execute_result"
    },
    {
     "data": {
      "image/png": "[encoded data removed]",
      "text/plain": [
       "<Figure size 360x360 with 1 Axes>"
      ]
     },
     "metadata": {
      "needs_background": "light"
     },
     "output_type": "display_data"
    }
   ],
   "source": [
    "sns.relplot(x='Static-pure',y='Stochastic- pure',data=df)"
   ]
  },
  {
   "cell_type": "code",
   "execution_count": 30,
   "metadata": {},
   "outputs": [
    {
     "data": {
      "text/plain": [
       "<seaborn.axisgrid.FacetGrid at 0x110549a90>"
      ]
     },
     "execution_count": 30,
     "metadata": {},
     "output_type": "execute_result"
    },
    {
     "data": {
      "image/png": "[encoded data removed]",
      "text/plain": [
       "<Figure size 360x360 with 1 Axes>"
      ]
     },
     "metadata": {
      "needs_background": "light"
     },
     "output_type": "display_data"
    }
   ],
   "source": [
    "sns.relplot(x='Static-pure',y='Stochastic- elitist',data=df)"
   ]
  },
  {
   "cell_type": "markdown",
   "metadata": {},
   "source": [
    "## Model"
   ]
  },
  {
   "cell_type": "code",
   "execution_count": 31,
   "metadata": {},
   "outputs": [],
   "source": [
    "from sklearn.linear_model import LinearRegression\n",
    "from sklearn.model_selection import train_test_split\n",
    "from sklearn.preprocessing import PolynomialFeatures"
   ]
  },
  {
   "cell_type": "markdown",
   "metadata": {},
   "source": [
    "мы хотим найти значение \tStochastic- elitist, благодаря 'Static-pure','Stochastic- pure', 'Stochastic- elitist'"
   ]
  },
  {
   "cell_type": "code",
   "execution_count": 32,
   "metadata": {},
   "outputs": [
    {
     "data": {
      "text/html": [
       "<div>\n",
       "<style scoped>\n",
       "    .dataframe tbody tr th:only-of-type {\n",
       "        vertical-align: middle;\n",
       "    }\n",
       "\n",
       "    .dataframe tbody tr th {\n",
       "        vertical-align: top;\n",
       "    }\n",
       "\n",
       "    .dataframe thead th {\n",
       "        text-align: right;\n",
       "    }\n",
       "</style>\n",
       "<table border=\"1\" class=\"dataframe\">\n",
       "  <thead>\n",
       "    <tr style=\"text-align: right;\">\n",
       "      <th></th>\n",
       "      <th>Static-pure</th>\n",
       "      <th>Stochastic- pure</th>\n",
       "      <th>Stochastic- elitist</th>\n",
       "    </tr>\n",
       "  </thead>\n",
       "  <tbody>\n",
       "    <tr>\n",
       "      <th>0</th>\n",
       "      <td>0.101307</td>\n",
       "      <td>0.101307</td>\n",
       "      <td>0.101307</td>\n",
       "    </tr>\n",
       "    <tr>\n",
       "      <th>1</th>\n",
       "      <td>0.126394</td>\n",
       "      <td>0.126401</td>\n",
       "      <td>0.126394</td>\n",
       "    </tr>\n",
       "    <tr>\n",
       "      <th>3</th>\n",
       "      <td>0.068513</td>\n",
       "      <td>0.068513</td>\n",
       "      <td>0.068513</td>\n",
       "    </tr>\n",
       "    <tr>\n",
       "      <th>4</th>\n",
       "      <td>0.085622</td>\n",
       "      <td>0.085600</td>\n",
       "      <td>0.085596</td>\n",
       "    </tr>\n",
       "    <tr>\n",
       "      <th>5</th>\n",
       "      <td>0.107042</td>\n",
       "      <td>0.107042</td>\n",
       "      <td>0.107042</td>\n",
       "    </tr>\n",
       "  </tbody>\n",
       "</table>\n",
       "</div>"
      ],
      "text/plain": [
       "   Static-pure  Stochastic- pure  Stochastic- elitist\n",
       "0     0.101307          0.101307             0.101307\n",
       "1     0.126394          0.126401             0.126394\n",
       "3     0.068513          0.068513             0.068513\n",
       "4     0.085622          0.085600             0.085596\n",
       "5     0.107042          0.107042             0.107042"
      ]
     },
     "execution_count": 32,
     "metadata": {},
     "output_type": "execute_result"
    }
   ],
   "source": [
    "train_df = df.loc[:,['Static-pure','Stochastic- pure', 'Stochastic- elitist']]\n",
    "train_df.head() #дата для тренировки модели"
   ]
  },
  {
   "cell_type": "code",
   "execution_count": 33,
   "metadata": {},
   "outputs": [
    {
     "data": {
      "text/html": [
       "<div>\n",
       "<style scoped>\n",
       "    .dataframe tbody tr th:only-of-type {\n",
       "        vertical-align: middle;\n",
       "    }\n",
       "\n",
       "    .dataframe tbody tr th {\n",
       "        vertical-align: top;\n",
       "    }\n",
       "\n",
       "    .dataframe thead th {\n",
       "        text-align: right;\n",
       "    }\n",
       "</style>\n",
       "<table border=\"1\" class=\"dataframe\">\n",
       "  <thead>\n",
       "    <tr style=\"text-align: right;\">\n",
       "      <th></th>\n",
       "      <th>Stochastic- elitist</th>\n",
       "    </tr>\n",
       "  </thead>\n",
       "  <tbody>\n",
       "    <tr>\n",
       "      <th>0</th>\n",
       "      <td>0.101307</td>\n",
       "    </tr>\n",
       "    <tr>\n",
       "      <th>1</th>\n",
       "      <td>0.126394</td>\n",
       "    </tr>\n",
       "    <tr>\n",
       "      <th>3</th>\n",
       "      <td>0.068513</td>\n",
       "    </tr>\n",
       "    <tr>\n",
       "      <th>4</th>\n",
       "      <td>0.085596</td>\n",
       "    </tr>\n",
       "    <tr>\n",
       "      <th>5</th>\n",
       "      <td>0.107042</td>\n",
       "    </tr>\n",
       "  </tbody>\n",
       "</table>\n",
       "</div>"
      ],
      "text/plain": [
       "   Stochastic- elitist\n",
       "0             0.101307\n",
       "1             0.126394\n",
       "3             0.068513\n",
       "4             0.085596\n",
       "5             0.107042"
      ]
     },
     "execution_count": 33,
     "metadata": {},
     "output_type": "execute_result"
    }
   ],
   "source": [
    "test_df = df.iloc[:,-1:] #\tStochastic- elitist\n",
    "test_df.head()  #что хотим найти"
   ]
  },
  {
   "cell_type": "code",
   "execution_count": 34,
   "metadata": {},
   "outputs": [],
   "source": [
    "regr = LinearRegression()"
   ]
  },
  {
   "cell_type": "code",
   "execution_count": 35,
   "metadata": {},
   "outputs": [],
   "source": [
    "X_train, X_test, y_train, y_test = train_test_split(train_df,test_df,test_size=0.3,random_state=2)\n",
    "# X_train => 50% => Static-pure\tStochastic-pure Stochastic- elitist\n",
    "# X_test => 50%\n",
    "\n",
    "#y_train => 50% =>Stochastic- elitist\n"
   ]
  },
  {
   "cell_type": "code",
   "execution_count": 36,
   "metadata": {},
   "outputs": [
    {
     "data": {
      "text/plain": [
       "LinearRegression(copy_X=True, fit_intercept=True, n_jobs=None, normalize=False)"
      ]
     },
     "execution_count": 36,
     "metadata": {},
     "output_type": "execute_result"
    }
   ],
   "source": [
    "regr.fit(X_train, y_train) #loading model with data"
   ]
  },
  {
   "cell_type": "code",
   "execution_count": 37,
   "metadata": {},
   "outputs": [],
   "source": [
    "pred = regr.predict(X_test) #making prediction => y_test"
   ]
  },
  {
   "cell_type": "code",
   "execution_count": 38,
   "metadata": {},
   "outputs": [
    {
     "data": {
      "text/plain": [
       "array([[0.06857728],\n",
       "       [0.12639392],\n",
       "       [0.07830092],\n",
       "       [0.07830092],\n",
       "       [0.06857728],\n",
       "       [0.04571052],\n",
       "       [0.07267144],\n",
       "       [0.02124183],\n",
       "       [0.06857728],\n",
       "       [0.07830092],\n",
       "       [0.04541532],\n",
       "       [0.05363697],\n",
       "       [0.07267144],\n",
       "       [0.04738562],\n",
       "       [0.06857728],\n",
       "       [0.02614379],\n",
       "       [0.10130719],\n",
       "       [0.06857728],\n",
       "       [0.06857728],\n",
       "       [0.07267144],\n",
       "       [0.10130719],\n",
       "       [0.0480147 ],\n",
       "       [0.10704225],\n",
       "       [0.02124183],\n",
       "       [0.10130719],\n",
       "       [0.08559586],\n",
       "       [0.06851312],\n",
       "       [0.02614379],\n",
       "       [0.07267144],\n",
       "       [0.04534079],\n",
       "       [0.05363697],\n",
       "       [0.06417583],\n",
       "       [0.02124183],\n",
       "       [0.07830092],\n",
       "       [0.08520179],\n",
       "       [0.02124183],\n",
       "       [0.06825939],\n",
       "       [0.06825939],\n",
       "       [0.05363697],\n",
       "       [0.08520179],\n",
       "       [0.02124183],\n",
       "       [0.04540857],\n",
       "       [0.04541532],\n",
       "       [0.03431373],\n",
       "       [0.04571052],\n",
       "       [0.03431373],\n",
       "       [0.04534079],\n",
       "       [0.06857728],\n",
       "       [0.02614379],\n",
       "       [0.06825939],\n",
       "       [0.04540857],\n",
       "       [0.02124183],\n",
       "       [0.02124183],\n",
       "       [0.06857728],\n",
       "       [0.04571052],\n",
       "       [0.10130719],\n",
       "       [0.10130719],\n",
       "       [0.05363697],\n",
       "       [0.04541532],\n",
       "       [0.06825939],\n",
       "       [0.06857728],\n",
       "       [0.04571052],\n",
       "       [0.07267144],\n",
       "       [0.04738562],\n",
       "       [0.03431373],\n",
       "       [0.02124183],\n",
       "       [0.04540857],\n",
       "       [0.04540857],\n",
       "       [0.04534079],\n",
       "       [0.10130719],\n",
       "       [0.06825939],\n",
       "       [0.10704225],\n",
       "       [0.08520179],\n",
       "       [0.04738562],\n",
       "       [0.02124183],\n",
       "       [0.02124183],\n",
       "       [0.0480147 ],\n",
       "       [0.0480147 ],\n",
       "       [0.06417583],\n",
       "       [0.06857728],\n",
       "       [0.02124183],\n",
       "       [0.06851312],\n",
       "       [0.04571052],\n",
       "       [0.06825939],\n",
       "       [0.03431373],\n",
       "       [0.0674548 ],\n",
       "       [0.02124183],\n",
       "       [0.12639392],\n",
       "       [0.06857728],\n",
       "       [0.03431373],\n",
       "       [0.02124183],\n",
       "       [0.06851312],\n",
       "       [0.04541532],\n",
       "       [0.10130719],\n",
       "       [0.0674548 ],\n",
       "       [0.06857728],\n",
       "       [0.04540857],\n",
       "       [0.06857728],\n",
       "       [0.02124183],\n",
       "       [0.0480147 ],\n",
       "       [0.04540857],\n",
       "       [0.12639392],\n",
       "       [0.06857728],\n",
       "       [0.05363697],\n",
       "       [0.04738562],\n",
       "       [0.10130719],\n",
       "       [0.07830092],\n",
       "       [0.04571052],\n",
       "       [0.10130719],\n",
       "       [0.12639392],\n",
       "       [0.12639392],\n",
       "       [0.04540857],\n",
       "       [0.04534079],\n",
       "       [0.0674548 ],\n",
       "       [0.10130719],\n",
       "       [0.02124183],\n",
       "       [0.02124183],\n",
       "       [0.04738562],\n",
       "       [0.02614379],\n",
       "       [0.0480147 ],\n",
       "       [0.06851312],\n",
       "       [0.04540857],\n",
       "       [0.02124183],\n",
       "       [0.0674548 ],\n",
       "       [0.06851312],\n",
       "       [0.02124183],\n",
       "       [0.07267144],\n",
       "       [0.07267144],\n",
       "       [0.06825939],\n",
       "       [0.06857728],\n",
       "       [0.02124183],\n",
       "       [0.02124183],\n",
       "       [0.06851312],\n",
       "       [0.0480147 ],\n",
       "       [0.04541532],\n",
       "       [0.08520179],\n",
       "       [0.02614379],\n",
       "       [0.04540857],\n",
       "       [0.10704225],\n",
       "       [0.02124183],\n",
       "       [0.02124183],\n",
       "       [0.02124183],\n",
       "       [0.03431373],\n",
       "       [0.06857728],\n",
       "       [0.06857728],\n",
       "       [0.12639392],\n",
       "       [0.06825939],\n",
       "       [0.04541532],\n",
       "       [0.07830092],\n",
       "       [0.0480147 ],\n",
       "       [0.0480147 ],\n",
       "       [0.05363697],\n",
       "       [0.07267144],\n",
       "       [0.05363697],\n",
       "       [0.02124183],\n",
       "       [0.04534079],\n",
       "       [0.03431373],\n",
       "       [0.02124183],\n",
       "       [0.04541532],\n",
       "       [0.04540857],\n",
       "       [0.06825939],\n",
       "       [0.02614379],\n",
       "       [0.04738562],\n",
       "       [0.02124183],\n",
       "       [0.04540857],\n",
       "       [0.04738562],\n",
       "       [0.04571052],\n",
       "       [0.07267144],\n",
       "       [0.06857728],\n",
       "       [0.02124183],\n",
       "       [0.04738562],\n",
       "       [0.04571052],\n",
       "       [0.07267144],\n",
       "       [0.12639392],\n",
       "       [0.06417583],\n",
       "       [0.10704225],\n",
       "       [0.02124183],\n",
       "       [0.02614379],\n",
       "       [0.08559586],\n",
       "       [0.02124183],\n",
       "       [0.0674548 ],\n",
       "       [0.04534079],\n",
       "       [0.10704225],\n",
       "       [0.04534079],\n",
       "       [0.04534079],\n",
       "       [0.10130719],\n",
       "       [0.07267144],\n",
       "       [0.02124183],\n",
       "       [0.10704225],\n",
       "       [0.04540857],\n",
       "       [0.06857728],\n",
       "       [0.04540857],\n",
       "       [0.07830092],\n",
       "       [0.0480147 ],\n",
       "       [0.04571052],\n",
       "       [0.0674548 ],\n",
       "       [0.12639392],\n",
       "       [0.04738562],\n",
       "       [0.07267144],\n",
       "       [0.12639392],\n",
       "       [0.02124183],\n",
       "       [0.05363697],\n",
       "       [0.06851312],\n",
       "       [0.10130719],\n",
       "       [0.04540857],\n",
       "       [0.03431373],\n",
       "       [0.03431373],\n",
       "       [0.10704225],\n",
       "       [0.06851312],\n",
       "       [0.06857728],\n",
       "       [0.0480147 ],\n",
       "       [0.04738562],\n",
       "       [0.06825939],\n",
       "       [0.12639392],\n",
       "       [0.07830092],\n",
       "       [0.08520179],\n",
       "       [0.10704225],\n",
       "       [0.02124183],\n",
       "       [0.07830092],\n",
       "       [0.0480147 ],\n",
       "       [0.06857728],\n",
       "       [0.06825939],\n",
       "       [0.07830092],\n",
       "       [0.02124183],\n",
       "       [0.07830092],\n",
       "       [0.06825939],\n",
       "       [0.02124183],\n",
       "       [0.12639392],\n",
       "       [0.0674548 ],\n",
       "       [0.06857728],\n",
       "       [0.08559586],\n",
       "       [0.06417583],\n",
       "       [0.02124183],\n",
       "       [0.12639392],\n",
       "       [0.08520179],\n",
       "       [0.10704225],\n",
       "       [0.04541532],\n",
       "       [0.02124183],\n",
       "       [0.10130719],\n",
       "       [0.04738562],\n",
       "       [0.03431373],\n",
       "       [0.02124183],\n",
       "       [0.06825939],\n",
       "       [0.04540857],\n",
       "       [0.02124183],\n",
       "       [0.04534079],\n",
       "       [0.07267144],\n",
       "       [0.06417583],\n",
       "       [0.04540857],\n",
       "       [0.08559586],\n",
       "       [0.07830092],\n",
       "       [0.12639392],\n",
       "       [0.12639392],\n",
       "       [0.08520179],\n",
       "       [0.08520179],\n",
       "       [0.07267144],\n",
       "       [0.07267144],\n",
       "       [0.07830092],\n",
       "       [0.10130719],\n",
       "       [0.10130719],\n",
       "       [0.10130719],\n",
       "       [0.04541532],\n",
       "       [0.0674548 ],\n",
       "       [0.02124183],\n",
       "       [0.06857728],\n",
       "       [0.07830092],\n",
       "       [0.02614379],\n",
       "       [0.08559586],\n",
       "       [0.04738562],\n",
       "       [0.03431373],\n",
       "       [0.02124183],\n",
       "       [0.0674548 ],\n",
       "       [0.04540857],\n",
       "       [0.05363697],\n",
       "       [0.06417583],\n",
       "       [0.04534079],\n",
       "       [0.06417583],\n",
       "       [0.02124183],\n",
       "       [0.04738562],\n",
       "       [0.02124183],\n",
       "       [0.10130719],\n",
       "       [0.02124183],\n",
       "       [0.06851312],\n",
       "       [0.02124183],\n",
       "       [0.10704225],\n",
       "       [0.03431373]])"
      ]
     },
     "execution_count": 38,
     "metadata": {},
     "output_type": "execute_result"
    }
   ],
   "source": [
    "pred"
   ]
  },
  {
   "cell_type": "code",
   "execution_count": 39,
   "metadata": {},
   "outputs": [
    {
     "data": {
      "text/html": [
       "<div>\n",
       "<style scoped>\n",
       "    .dataframe tbody tr th:only-of-type {\n",
       "        vertical-align: middle;\n",
       "    }\n",
       "\n",
       "    .dataframe tbody tr th {\n",
       "        vertical-align: top;\n",
       "    }\n",
       "\n",
       "    .dataframe thead th {\n",
       "        text-align: right;\n",
       "    }\n",
       "</style>\n",
       "<table border=\"1\" class=\"dataframe\">\n",
       "  <thead>\n",
       "    <tr style=\"text-align: right;\">\n",
       "      <th></th>\n",
       "      <th>Stochastic- elitist</th>\n",
       "    </tr>\n",
       "  </thead>\n",
       "  <tbody>\n",
       "    <tr>\n",
       "      <th>152</th>\n",
       "      <td>0.068577</td>\n",
       "    </tr>\n",
       "    <tr>\n",
       "      <th>187</th>\n",
       "      <td>0.126394</td>\n",
       "    </tr>\n",
       "    <tr>\n",
       "      <th>890</th>\n",
       "      <td>0.078301</td>\n",
       "    </tr>\n",
       "    <tr>\n",
       "      <th>953</th>\n",
       "      <td>0.078301</td>\n",
       "    </tr>\n",
       "    <tr>\n",
       "      <th>623</th>\n",
       "      <td>0.068577</td>\n",
       "    </tr>\n",
       "    <tr>\n",
       "      <th>...</th>\n",
       "      <td>...</td>\n",
       "    </tr>\n",
       "    <tr>\n",
       "      <th>75</th>\n",
       "      <td>0.021242</td>\n",
       "    </tr>\n",
       "    <tr>\n",
       "      <th>3</th>\n",
       "      <td>0.068513</td>\n",
       "    </tr>\n",
       "    <tr>\n",
       "      <th>360</th>\n",
       "      <td>0.021242</td>\n",
       "    </tr>\n",
       "    <tr>\n",
       "      <th>473</th>\n",
       "      <td>0.107042</td>\n",
       "    </tr>\n",
       "    <tr>\n",
       "      <th>792</th>\n",
       "      <td>0.034314</td>\n",
       "    </tr>\n",
       "  </tbody>\n",
       "</table>\n",
       "<p>286 rows × 1 columns</p>\n",
       "</div>"
      ],
      "text/plain": [
       "     Stochastic- elitist\n",
       "152             0.068577\n",
       "187             0.126394\n",
       "890             0.078301\n",
       "953             0.078301\n",
       "623             0.068577\n",
       "..                   ...\n",
       "75              0.021242\n",
       "3               0.068513\n",
       "360             0.021242\n",
       "473             0.107042\n",
       "792             0.034314\n",
       "\n",
       "[286 rows x 1 columns]"
      ]
     },
     "execution_count": 39,
     "metadata": {},
     "output_type": "execute_result"
    }
   ],
   "source": [
    "y_test"
   ]
  },
  {
   "cell_type": "code",
   "execution_count": null,
   "metadata": {},
   "outputs": [],
   "source": []
  },
  {
   "cell_type": "code",
   "execution_count": null,
   "metadata": {},
   "outputs": [],
   "source": []
  }
 ],
 "metadata": {
  "kernelspec": {
   "display_name": "Python 3",
   "language": "python",
   "name": "python3"
  },
  "language_info": {
   "codemirror_mode": {
    "name": "ipython",
    "version": 3
   },
   "file_extension": ".py",
   "mimetype": "text/x-python",
   "name": "python",
   "nbconvert_exporter": "python",
   "pygments_lexer": "ipython3",
   "version": "3.8.5"
  }
 },
 "nbformat": 4,
 "nbformat_minor": 2
}
